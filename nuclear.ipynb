{
 "cells": [
  {
   "attachments": {},
   "cell_type": "markdown",
   "metadata": {},
   "source": [
    "1. datasets chosen : https://ourworldindata.org/nuclear-energy\n",
    "2. data preprocessing : \n",
    "3. whhy do i chose the data : \n",
    "    - the data collected spans from 1965 to 2022\n",
    "    - based on three main sources: BP Statistical Review of World Energy., Ember Yearly Electricity Data (2023)., Ember European Electricity Review (2022).\n",
    "    - high quality, accurate, clearly defined, and well-tested data\n",
    "    - relevant to the problem\n",
    "    - provides more than one database\n",
    "    - provides breakdown of data for each region, even country\n",
    "4. the problem : common non renewable energy is causing global warming, renewable energy is too expensive and not reliable enough. \n",
    "5. factor analysis, on safety factor of multiple energy generation sources on 3 variables : energy generated (or precentage), death toll, co2 emmissions (only on 2021)\n",
    "6. explain results with graphics, solution : nuclear energy is the solution because its safe, efficient, and flexible\n",
    "7. remarks and suggestion\n",
    "8. write article"
   ]
  },
  {
   "attachments": {},
   "cell_type": "markdown",
   "metadata": {},
   "source": [
    "# 1. Datasets Chosen \n",
    "- Nuclear Energy Generation\n",
    "- Electricity Production Source\n",
    "- Death Rates from Energy Production\n",
    "- Greenhouse Gas Emissions from Production Source\n",
    "\n",
    "https://ourworldindata.org/nuclear-energy"
   ]
  },
  {
   "attachments": {},
   "cell_type": "markdown",
   "metadata": {},
   "source": [
    "# 2. Data Preprocessing\n",
    "- Electricity Production Source"
   ]
  },
  {
   "cell_type": "code",
   "execution_count": 1,
   "metadata": {},
   "outputs": [
    {
     "data": {
      "text/html": [
       "<div>\n",
       "<style scoped>\n",
       "    .dataframe tbody tr th:only-of-type {\n",
       "        vertical-align: middle;\n",
       "    }\n",
       "\n",
       "    .dataframe tbody tr th {\n",
       "        vertical-align: top;\n",
       "    }\n",
       "\n",
       "    .dataframe thead th {\n",
       "        text-align: right;\n",
       "    }\n",
       "</style>\n",
       "<table border=\"1\" class=\"dataframe\">\n",
       "  <thead>\n",
       "    <tr style=\"text-align: right;\">\n",
       "      <th></th>\n",
       "      <th>Entity</th>\n",
       "      <th>Code</th>\n",
       "      <th>Year</th>\n",
       "      <th>Others</th>\n",
       "      <th>Biomass</th>\n",
       "      <th>Solar</th>\n",
       "      <th>Wind</th>\n",
       "      <th>Hydropower</th>\n",
       "      <th>Nuclear</th>\n",
       "      <th>Oil</th>\n",
       "      <th>Gas</th>\n",
       "      <th>Coal</th>\n",
       "    </tr>\n",
       "  </thead>\n",
       "  <tbody>\n",
       "    <tr>\n",
       "      <th>0</th>\n",
       "      <td>Afghanistan</td>\n",
       "      <td>AFG</td>\n",
       "      <td>2000</td>\n",
       "      <td>0.0</td>\n",
       "      <td>0.0</td>\n",
       "      <td>0.0</td>\n",
       "      <td>0.0</td>\n",
       "      <td>0.31</td>\n",
       "      <td>0.0</td>\n",
       "      <td>0.16</td>\n",
       "      <td>0.0</td>\n",
       "      <td>0.0</td>\n",
       "    </tr>\n",
       "    <tr>\n",
       "      <th>1</th>\n",
       "      <td>Afghanistan</td>\n",
       "      <td>AFG</td>\n",
       "      <td>2001</td>\n",
       "      <td>0.0</td>\n",
       "      <td>0.0</td>\n",
       "      <td>0.0</td>\n",
       "      <td>0.0</td>\n",
       "      <td>0.50</td>\n",
       "      <td>0.0</td>\n",
       "      <td>0.09</td>\n",
       "      <td>0.0</td>\n",
       "      <td>0.0</td>\n",
       "    </tr>\n",
       "    <tr>\n",
       "      <th>2</th>\n",
       "      <td>Afghanistan</td>\n",
       "      <td>AFG</td>\n",
       "      <td>2002</td>\n",
       "      <td>0.0</td>\n",
       "      <td>0.0</td>\n",
       "      <td>0.0</td>\n",
       "      <td>0.0</td>\n",
       "      <td>0.56</td>\n",
       "      <td>0.0</td>\n",
       "      <td>0.13</td>\n",
       "      <td>0.0</td>\n",
       "      <td>0.0</td>\n",
       "    </tr>\n",
       "    <tr>\n",
       "      <th>3</th>\n",
       "      <td>Afghanistan</td>\n",
       "      <td>AFG</td>\n",
       "      <td>2003</td>\n",
       "      <td>0.0</td>\n",
       "      <td>0.0</td>\n",
       "      <td>0.0</td>\n",
       "      <td>0.0</td>\n",
       "      <td>0.63</td>\n",
       "      <td>0.0</td>\n",
       "      <td>0.31</td>\n",
       "      <td>0.0</td>\n",
       "      <td>0.0</td>\n",
       "    </tr>\n",
       "    <tr>\n",
       "      <th>4</th>\n",
       "      <td>Afghanistan</td>\n",
       "      <td>AFG</td>\n",
       "      <td>2004</td>\n",
       "      <td>0.0</td>\n",
       "      <td>0.0</td>\n",
       "      <td>0.0</td>\n",
       "      <td>0.0</td>\n",
       "      <td>0.56</td>\n",
       "      <td>0.0</td>\n",
       "      <td>0.33</td>\n",
       "      <td>0.0</td>\n",
       "      <td>0.0</td>\n",
       "    </tr>\n",
       "  </tbody>\n",
       "</table>\n",
       "</div>"
      ],
      "text/plain": [
       "        Entity Code  Year  Others  Biomass  Solar  Wind  Hydropower  Nuclear  \\\n",
       "0  Afghanistan  AFG  2000     0.0      0.0    0.0   0.0        0.31      0.0   \n",
       "1  Afghanistan  AFG  2001     0.0      0.0    0.0   0.0        0.50      0.0   \n",
       "2  Afghanistan  AFG  2002     0.0      0.0    0.0   0.0        0.56      0.0   \n",
       "3  Afghanistan  AFG  2003     0.0      0.0    0.0   0.0        0.63      0.0   \n",
       "4  Afghanistan  AFG  2004     0.0      0.0    0.0   0.0        0.56      0.0   \n",
       "\n",
       "    Oil  Gas  Coal  \n",
       "0  0.16  0.0   0.0  \n",
       "1  0.09  0.0   0.0  \n",
       "2  0.13  0.0   0.0  \n",
       "3  0.31  0.0   0.0  \n",
       "4  0.33  0.0   0.0  "
      ]
     },
     "execution_count": 1,
     "metadata": {},
     "output_type": "execute_result"
    }
   ],
   "source": [
    "import pandas as pd\n",
    "\n",
    "# import all data\n",
    "electricityprod = pd.read_csv('./electricity-prod-source-stacked.csv')\n",
    "deathrates = pd.read_csv('./death-rates-from-energy-production-per-twh.csv')\n",
    "greenhouse = pd.read_csv('./greenhouse-gas-emissions.csv')\n",
    "\n",
    "\n",
    "# change column name to only nuclear\n",
    "electricityprod = electricityprod.rename(columns={'Other renewables excluding bioenergy (TWh) (zero filled)': 'Others'})\n",
    "electricityprod = electricityprod.rename(columns={'Electricity from bioenergy (TWh) (zero filled)': 'Biomass'})\n",
    "electricityprod = electricityprod.rename(columns={'Electricity from solar (TWh)': 'Solar'})\n",
    "electricityprod = electricityprod.rename(columns={'Electricity from wind (TWh)': 'Wind'})\n",
    "electricityprod = electricityprod.rename(columns={'Electricity from hydro (TWh)': 'Hydropower'})\n",
    "electricityprod = electricityprod.rename(columns={'Electricity from nuclear (TWh)': 'Nuclear'})\n",
    "electricityprod = electricityprod.rename(columns={'Electricity from oil (TWh)': 'Oil'})\n",
    "electricityprod = electricityprod.rename(columns={'Electricity from gas (TWh)': 'Gas'})\n",
    "electricityprod = electricityprod.rename(columns={'Electricity from coal (TWh)': 'Coal'})\n",
    "electricityprod.head()\n"
   ]
  },
  {
   "cell_type": "code",
   "execution_count": 2,
   "metadata": {},
   "outputs": [
    {
     "data": {
      "text/html": [
       "<div>\n",
       "<style scoped>\n",
       "    .dataframe tbody tr th:only-of-type {\n",
       "        vertical-align: middle;\n",
       "    }\n",
       "\n",
       "    .dataframe tbody tr th {\n",
       "        vertical-align: top;\n",
       "    }\n",
       "\n",
       "    .dataframe thead th {\n",
       "        text-align: right;\n",
       "    }\n",
       "</style>\n",
       "<table border=\"1\" class=\"dataframe\">\n",
       "  <thead>\n",
       "    <tr style=\"text-align: right;\">\n",
       "      <th></th>\n",
       "      <th>Entity</th>\n",
       "      <th>Code</th>\n",
       "      <th>Year</th>\n",
       "      <th>Others</th>\n",
       "      <th>Biomass</th>\n",
       "      <th>Solar</th>\n",
       "      <th>Wind</th>\n",
       "      <th>Hydropower</th>\n",
       "      <th>Nuclear</th>\n",
       "      <th>Oil</th>\n",
       "      <th>Gas</th>\n",
       "      <th>Coal</th>\n",
       "    </tr>\n",
       "  </thead>\n",
       "  <tbody>\n",
       "    <tr>\n",
       "      <th>22</th>\n",
       "      <td>Africa</td>\n",
       "      <td>NaN</td>\n",
       "      <td>1965</td>\n",
       "      <td>0.0</td>\n",
       "      <td>0.0</td>\n",
       "      <td>NaN</td>\n",
       "      <td>0.0</td>\n",
       "      <td>13.905635</td>\n",
       "      <td>0.0</td>\n",
       "      <td>NaN</td>\n",
       "      <td>NaN</td>\n",
       "      <td>NaN</td>\n",
       "    </tr>\n",
       "    <tr>\n",
       "      <th>23</th>\n",
       "      <td>Africa</td>\n",
       "      <td>NaN</td>\n",
       "      <td>1966</td>\n",
       "      <td>0.0</td>\n",
       "      <td>0.0</td>\n",
       "      <td>NaN</td>\n",
       "      <td>0.0</td>\n",
       "      <td>15.510005</td>\n",
       "      <td>0.0</td>\n",
       "      <td>NaN</td>\n",
       "      <td>NaN</td>\n",
       "      <td>NaN</td>\n",
       "    </tr>\n",
       "    <tr>\n",
       "      <th>24</th>\n",
       "      <td>Africa</td>\n",
       "      <td>NaN</td>\n",
       "      <td>1967</td>\n",
       "      <td>0.0</td>\n",
       "      <td>0.0</td>\n",
       "      <td>NaN</td>\n",
       "      <td>0.0</td>\n",
       "      <td>16.190636</td>\n",
       "      <td>0.0</td>\n",
       "      <td>NaN</td>\n",
       "      <td>NaN</td>\n",
       "      <td>NaN</td>\n",
       "    </tr>\n",
       "    <tr>\n",
       "      <th>25</th>\n",
       "      <td>Africa</td>\n",
       "      <td>NaN</td>\n",
       "      <td>1968</td>\n",
       "      <td>0.0</td>\n",
       "      <td>0.0</td>\n",
       "      <td>NaN</td>\n",
       "      <td>0.0</td>\n",
       "      <td>18.938341</td>\n",
       "      <td>0.0</td>\n",
       "      <td>NaN</td>\n",
       "      <td>NaN</td>\n",
       "      <td>NaN</td>\n",
       "    </tr>\n",
       "    <tr>\n",
       "      <th>26</th>\n",
       "      <td>Africa</td>\n",
       "      <td>NaN</td>\n",
       "      <td>1969</td>\n",
       "      <td>0.0</td>\n",
       "      <td>0.0</td>\n",
       "      <td>NaN</td>\n",
       "      <td>0.0</td>\n",
       "      <td>22.100891</td>\n",
       "      <td>0.0</td>\n",
       "      <td>NaN</td>\n",
       "      <td>NaN</td>\n",
       "      <td>NaN</td>\n",
       "    </tr>\n",
       "  </tbody>\n",
       "</table>\n",
       "</div>"
      ],
      "text/plain": [
       "    Entity Code  Year  Others  Biomass  Solar  Wind  Hydropower  Nuclear  Oil  \\\n",
       "22  Africa  NaN  1965     0.0      0.0    NaN   0.0   13.905635      0.0  NaN   \n",
       "23  Africa  NaN  1966     0.0      0.0    NaN   0.0   15.510005      0.0  NaN   \n",
       "24  Africa  NaN  1967     0.0      0.0    NaN   0.0   16.190636      0.0  NaN   \n",
       "25  Africa  NaN  1968     0.0      0.0    NaN   0.0   18.938341      0.0  NaN   \n",
       "26  Africa  NaN  1969     0.0      0.0    NaN   0.0   22.100891      0.0  NaN   \n",
       "\n",
       "    Gas  Coal  \n",
       "22  NaN   NaN  \n",
       "23  NaN   NaN  \n",
       "24  NaN   NaN  \n",
       "25  NaN   NaN  \n",
       "26  NaN   NaN  "
      ]
     },
     "execution_count": 2,
     "metadata": {},
     "output_type": "execute_result"
    }
   ],
   "source": [
    "# filter for region (Asia, Europe, North America, South America, Africa, Oceania)\n",
    "electricityprod2 = electricityprod[electricityprod['Entity'].isin(['Asia', 'Europe', 'North America', 'South America', 'Africa', 'Oceania'])]\n",
    "electricityprod2.head()"
   ]
  },
  {
   "cell_type": "code",
   "execution_count": 3,
   "metadata": {},
   "outputs": [
    {
     "data": {
      "text/html": [
       "<div>\n",
       "<style scoped>\n",
       "    .dataframe tbody tr th:only-of-type {\n",
       "        vertical-align: middle;\n",
       "    }\n",
       "\n",
       "    .dataframe tbody tr th {\n",
       "        vertical-align: top;\n",
       "    }\n",
       "\n",
       "    .dataframe thead th {\n",
       "        text-align: right;\n",
       "    }\n",
       "</style>\n",
       "<table border=\"1\" class=\"dataframe\">\n",
       "  <thead>\n",
       "    <tr style=\"text-align: right;\">\n",
       "      <th></th>\n",
       "      <th>Entity</th>\n",
       "      <th>Code</th>\n",
       "      <th>Year</th>\n",
       "      <th>Others</th>\n",
       "      <th>Biomass</th>\n",
       "      <th>Solar</th>\n",
       "      <th>Wind</th>\n",
       "      <th>Hydropower</th>\n",
       "      <th>Nuclear</th>\n",
       "      <th>Oil</th>\n",
       "      <th>Gas</th>\n",
       "      <th>Coal</th>\n",
       "    </tr>\n",
       "  </thead>\n",
       "  <tbody>\n",
       "    <tr>\n",
       "      <th>78</th>\n",
       "      <td>Africa</td>\n",
       "      <td>NaN</td>\n",
       "      <td>2021</td>\n",
       "      <td>5.12</td>\n",
       "      <td>4.39000</td>\n",
       "      <td>17.12000</td>\n",
       "      <td>20.89000</td>\n",
       "      <td>145.22</td>\n",
       "      <td>12.15</td>\n",
       "      <td>72.65</td>\n",
       "      <td>337.20</td>\n",
       "      <td>224.61</td>\n",
       "    </tr>\n",
       "    <tr>\n",
       "      <th>504</th>\n",
       "      <td>Asia</td>\n",
       "      <td>NaN</td>\n",
       "      <td>2021</td>\n",
       "      <td>41.13</td>\n",
       "      <td>302.34000</td>\n",
       "      <td>586.96000</td>\n",
       "      <td>786.19995</td>\n",
       "      <td>1940.53</td>\n",
       "      <td>713.87</td>\n",
       "      <td>372.97</td>\n",
       "      <td>2620.34</td>\n",
       "      <td>8021.25</td>\n",
       "    </tr>\n",
       "    <tr>\n",
       "      <th>3035</th>\n",
       "      <td>Europe</td>\n",
       "      <td>NaN</td>\n",
       "      <td>2021</td>\n",
       "      <td>7.70</td>\n",
       "      <td>211.01001</td>\n",
       "      <td>187.68001</td>\n",
       "      <td>473.43000</td>\n",
       "      <td>776.65</td>\n",
       "      <td>1111.45</td>\n",
       "      <td>124.64</td>\n",
       "      <td>1192.77</td>\n",
       "      <td>693.73</td>\n",
       "    </tr>\n",
       "    <tr>\n",
       "      <th>6818</th>\n",
       "      <td>North America</td>\n",
       "      <td>NaN</td>\n",
       "      <td>2021</td>\n",
       "      <td>27.10</td>\n",
       "      <td>79.69000</td>\n",
       "      <td>188.20000</td>\n",
       "      <td>440.29000</td>\n",
       "      <td>687.87</td>\n",
       "      <td>876.98</td>\n",
       "      <td>129.35</td>\n",
       "      <td>1868.97</td>\n",
       "      <td>956.53</td>\n",
       "    </tr>\n",
       "    <tr>\n",
       "      <th>7190</th>\n",
       "      <td>Oceania</td>\n",
       "      <td>NaN</td>\n",
       "      <td>2021</td>\n",
       "      <td>8.22</td>\n",
       "      <td>3.75000</td>\n",
       "      <td>28.62000</td>\n",
       "      <td>28.77000</td>\n",
       "      <td>40.55</td>\n",
       "      <td>0.00</td>\n",
       "      <td>14.57</td>\n",
       "      <td>50.09</td>\n",
       "      <td>128.49</td>\n",
       "    </tr>\n",
       "  </tbody>\n",
       "</table>\n",
       "</div>"
      ],
      "text/plain": [
       "             Entity Code  Year  Others    Biomass      Solar       Wind  \\\n",
       "78           Africa  NaN  2021    5.12    4.39000   17.12000   20.89000   \n",
       "504            Asia  NaN  2021   41.13  302.34000  586.96000  786.19995   \n",
       "3035         Europe  NaN  2021    7.70  211.01001  187.68001  473.43000   \n",
       "6818  North America  NaN  2021   27.10   79.69000  188.20000  440.29000   \n",
       "7190        Oceania  NaN  2021    8.22    3.75000   28.62000   28.77000   \n",
       "\n",
       "      Hydropower  Nuclear     Oil      Gas     Coal  \n",
       "78        145.22    12.15   72.65   337.20   224.61  \n",
       "504      1940.53   713.87  372.97  2620.34  8021.25  \n",
       "3035      776.65  1111.45  124.64  1192.77   693.73  \n",
       "6818      687.87   876.98  129.35  1868.97   956.53  \n",
       "7190       40.55     0.00   14.57    50.09   128.49  "
      ]
     },
     "execution_count": 3,
     "metadata": {},
     "output_type": "execute_result"
    }
   ],
   "source": [
    "# filter for year (2021)\n",
    "electricityprod3 = electricityprod2[electricityprod2['Year'].isin([2021])]\n",
    "electricityprod3.head()"
   ]
  },
  {
   "cell_type": "code",
   "execution_count": 4,
   "metadata": {},
   "outputs": [
    {
     "name": "stdout",
     "output_type": "stream",
     "text": [
      "       Entity Electricity Generated (TWh)\n",
      "0     Biomass                      666.28\n",
      "1       Solar                     1040.46\n",
      "2        Wind                     1848.25\n",
      "3  Hydropower                     4216.36\n",
      "4     Nuclear                     2739.32\n",
      "5         Oil                      764.52\n",
      "6         Gas                     6337.96\n",
      "7        Coal                     10085.9\n"
     ]
    }
   ],
   "source": [
    "# sum each column from all regions\n",
    "electricityprod4 = electricityprod3.sum(axis=0)\n",
    "# delete entity, code, and year object\n",
    "del electricityprod4['Entity']\n",
    "del electricityprod4['Code']\n",
    "del electricityprod4['Year']\n",
    "\n",
    "# round every column to 3 decimal places\n",
    "electricityprod4['Biomass'] = round(electricityprod4['Biomass'], 3).astype(float)\n",
    "electricityprod4['Solar'] = round(electricityprod4['Solar'], 3).astype(float)\n",
    "electricityprod4['Wind'] = round(electricityprod4['Wind'], 3).astype(float)\n",
    "electricityprod4['Hydropower'] = round(electricityprod4['Hydropower'], 3).astype(float)\n",
    "electricityprod4['Nuclear'] = round(electricityprod4['Nuclear'], 3).astype(float)\n",
    "electricityprod4['Oil'] = round(electricityprod4['Oil'], 3).astype(float)\n",
    "electricityprod4['Gas'] = round(electricityprod4['Gas'], 3).astype(float)\n",
    "electricityprod4['Coal'] = round(electricityprod4['Coal'], 3).astype(float)\n",
    "electricityprod4['Others'] = round(electricityprod4['Others'], 3).astype(float)\n",
    "\n",
    "# convert to dataframe with column name 'energy' and 'Energy Generated (TWh)'\n",
    "electricityprod5 = electricityprod4.to_frame(name='energy').reset_index()\n",
    "electricityprod5 = electricityprod5.rename(columns={'energy': 'Electricity Generated (TWh)'})\n",
    "electricityprod5 = electricityprod5.rename(columns={'index': 'Entity'})\n",
    "\n",
    "# delete first row reset index\n",
    "electricityprod5 = electricityprod5.drop(electricityprod5.index[0])\n",
    "\n",
    "#reset index\n",
    "electricityprod5 = electricityprod5.reset_index(drop=True)\n",
    "\n",
    "print(electricityprod5)\n"
   ]
  },
  {
   "cell_type": "code",
   "execution_count": 5,
   "metadata": {},
   "outputs": [
    {
     "name": "stdout",
     "output_type": "stream",
     "text": [
      "       Entity  Deaths per TWh\n",
      "0     Biomass           4.630\n",
      "1        Coal          24.620\n",
      "2         Gas           2.821\n",
      "3  Hydropower           1.300\n",
      "4     Nuclear           0.030\n",
      "5         Oil          18.430\n",
      "6       Solar           0.019\n",
      "7        Wind           0.035\n"
     ]
    }
   ],
   "source": [
    "\n",
    "# rename column of deathrates \n",
    "deathrates = deathrates.rename(columns={'Deaths per TWh of electricity production': 'Deaths per TWh'})\n",
    "\n",
    "# remove code and year column\n",
    "del deathrates['Code']\n",
    "del deathrates['Year']\n",
    "\n",
    "print(deathrates)"
   ]
  },
  {
   "cell_type": "code",
   "execution_count": 6,
   "metadata": {},
   "outputs": [
    {
     "name": "stdout",
     "output_type": "stream",
     "text": [
      "       Entity  CO2 Emissions per Twh\n",
      "0     Biomass                  0.152\n",
      "1        Coal                  0.820\n",
      "2         Gas                  0.490\n",
      "3  Hydropower                  0.034\n",
      "4     Nuclear                  0.003\n",
      "5         Oil                  0.720\n",
      "6       Solar                  0.005\n",
      "7        Wind                  0.004\n"
     ]
    }
   ],
   "source": [
    "# delete unnecessary columns\n",
    "del greenhouse['Code']\n",
    "del greenhouse['Year']\n",
    "\n",
    "# rename column of greenhouse\n",
    "greenhouse = greenhouse.rename(columns={'greenhouse_emissions': 'CO2 Emissions per Twh'})\n",
    "\n",
    "# divide co2 emissions by 1000\n",
    "greenhouse['CO2 Emissions per Twh'] = greenhouse['CO2 Emissions per Twh'] / 1000\n",
    "\n",
    "print(greenhouse)"
   ]
  },
  {
   "cell_type": "code",
   "execution_count": 7,
   "metadata": {},
   "outputs": [
    {
     "name": "stdout",
     "output_type": "stream",
     "text": [
      "       Entity  CO2 Emissions per Twh Electricity Generated (TWh)  \\\n",
      "0     Biomass                  0.152                      666.28   \n",
      "1        Coal                  0.820                     10085.9   \n",
      "2         Gas                  0.490                     6337.96   \n",
      "3  Hydropower                  0.034                     4216.36   \n",
      "4     Nuclear                  0.003                     2739.32   \n",
      "5         Oil                  0.720                      764.52   \n",
      "6       Solar                  0.005                     1040.46   \n",
      "7        Wind                  0.004                     1848.25   \n",
      "\n",
      "   Deaths per TWh  \n",
      "0           4.630  \n",
      "1          24.620  \n",
      "2           2.821  \n",
      "3           1.300  \n",
      "4           0.030  \n",
      "5          18.430  \n",
      "6           0.019  \n",
      "7           0.035  \n"
     ]
    }
   ],
   "source": [
    "# combine greenhouse, electricityprod5, and deathrates\n",
    "combined = pd.merge(greenhouse, electricityprod5, on='Entity')\n",
    "combined2 = pd.merge(combined, deathrates, on='Entity')\n",
    "print(combined2)"
   ]
  },
  {
   "attachments": {},
   "cell_type": "markdown",
   "metadata": {},
   "source": [
    "# 3. Reason for choosing the data\n",
    "- the data collected spans from 1965 to 2022\n",
    "- based on three main sources: BP Statistical Review of World Energy., Ember Yearly Electricity Data (2023)., Ember European Electricity Review (2022).\n",
    "- high quality, accurate, clearly defined, and well-tested data\n",
    "- relevant to the problem\n",
    "- provides more than one database\n",
    "- provides breakdown of data for each region, even country"
   ]
  },
  {
   "attachments": {},
   "cell_type": "markdown",
   "metadata": {},
   "source": [
    "# 4. The Problem\n",
    "\n",
    "common non renewable energy is causing global warming, renewable energy is too expensive and not reliable enough. "
   ]
  },
  {
   "attachments": {},
   "cell_type": "markdown",
   "metadata": {},
   "source": [
    "# 5. Exploratory Factor Analysis - Safety Factor\n",
    "\n",
    "factor analysis performed on 8 energy sources, with 3 variables : energy generated (or precentage), death toll, co2 emmissions (only on 2021)"
   ]
  },
  {
   "cell_type": "code",
   "execution_count": 8,
   "metadata": {},
   "outputs": [
    {
     "name": "stdout",
     "output_type": "stream",
     "text": [
      "   CO2 Emissions per Twh  Electricity Generated (TWh)  Deaths per TWh\n",
      "0                  0.152                       666.28           4.630\n",
      "1                  0.820                     10085.90          24.620\n",
      "2                  0.490                      6337.96           2.821\n",
      "3                  0.034                      4216.36           1.300\n",
      "4                  0.003                      2739.32           0.030\n",
      "5                  0.720                       764.52          18.430\n",
      "6                  0.005                      1040.46           0.019\n",
      "7                  0.004                      1848.25           0.035\n"
     ]
    }
   ],
   "source": [
    "from factor_analyzer import FactorAnalyzer\n",
    "import matplotlib.pyplot as plt\n",
    "\n",
    "# drop entity column\n",
    "combined2.drop(['Entity'], axis=1, inplace=True)\n",
    "\n",
    "#convert combined2 electricity generated column to float64\n",
    "combined2['Electricity Generated (TWh)'] = (combined2['Electricity Generated (TWh)']).astype(float)\n",
    "print(combined2)"
   ]
  },
  {
   "cell_type": "code",
   "execution_count": 9,
   "metadata": {},
   "outputs": [
    {
     "data": {
      "text/plain": [
       "0.6123111816959611"
      ]
     },
     "execution_count": 9,
     "metadata": {},
     "output_type": "execute_result"
    }
   ],
   "source": [
    "# calculate kmo test of combined2\n",
    "from factor_analyzer.factor_analyzer import calculate_kmo\n",
    "kmo_all,kmo_model=calculate_kmo(combined2)\n",
    "kmo_model\n",
    "\n",
    "# 0.61 means the sampling adequacy of the data is enough"
   ]
  },
  {
   "cell_type": "code",
   "execution_count": 10,
   "metadata": {},
   "outputs": [
    {
     "name": "stderr",
     "output_type": "stream",
     "text": [
      "c:\\Python310\\lib\\site-packages\\factor_analyzer\\factor_analyzer.py:662: UserWarning: No rotation will be performed when the number of factors equals 1.\n",
      "  warnings.warn(\n"
     ]
    },
    {
     "data": {
      "text/plain": [
       "array([[0.95296743],\n",
       "       [0.74552628],\n",
       "       [0.93102333]])"
      ]
     },
     "execution_count": 10,
     "metadata": {},
     "output_type": "execute_result"
    }
   ],
   "source": [
    "# Create factor analysis object and perform factor analysis\n",
    "fa = FactorAnalyzer()\n",
    "factor_analyzer = FactorAnalyzer(n_factors=1, method='principal', rotation='varimax')\n",
    "factor_analyzer.fit(combined2)\n",
    "loadings = factor_analyzer.loadings_\n",
    "loadings"
   ]
  },
  {
   "attachments": {},
   "cell_type": "markdown",
   "metadata": {},
   "source": [
    "# 6. Explain the Results using graphs\n",
    "\n",
    "In our exploration factor analysis, we chose 3 variables to analyze, namely CO2 emissions per Twh, Electricity Generated (Twh), and Deaths per Twh.\n",
    "Lets graph it out first."
   ]
  },
  {
   "cell_type": "code",
   "execution_count": 11,
   "metadata": {},
   "outputs": [
    {
     "name": "stdout",
     "output_type": "stream",
     "text": [
      "       Entity  CO2 Emissions per Twh  Electricity Generated (TWh)  \\\n",
      "0     Biomass                  0.152                       666.28   \n",
      "1        Coal                  0.820                     10085.90   \n",
      "2         Gas                  0.490                      6337.96   \n",
      "3  Hydropower                  0.034                      4216.36   \n",
      "4     Nuclear                  0.003                      2739.32   \n",
      "5         Oil                  0.720                       764.52   \n",
      "6       Solar                  0.005                      1040.46   \n",
      "7        Wind                  0.004                      1848.25   \n",
      "\n",
      "   Deaths per TWh  \n",
      "0           4.630  \n",
      "1          24.620  \n",
      "2           2.821  \n",
      "3           1.300  \n",
      "4           0.030  \n",
      "5          18.430  \n",
      "6           0.019  \n",
      "7           0.035  \n"
     ]
    },
    {
     "data": {
      "image/png": "[encoded data removed]",
      "text/plain": [
       "<Figure size 2000x500 with 3 Axes>"
      ]
     },
     "metadata": {},
     "output_type": "display_data"
    }
   ],
   "source": [
    "import matplotlib.pyplot as plt\n",
    "\n",
    "# add new column named entity in the front\n",
    "combined2['Entity'] = ['Biomass', 'Coal', 'Gas', 'Hydropower', 'Nuclear', 'Oil', 'Solar', 'Wind']\n",
    "\n",
    "# move entity column to the left\n",
    "combined3 = combined2[['Entity', 'CO2 Emissions per Twh', 'Electricity Generated (TWh)', 'Deaths per TWh']]\n",
    "print(combined3)\n",
    "\n",
    "# make 3 graphs containing bar graph for each column\n",
    "fig, ax = plt.subplots(1, 3, figsize=(20, 5))\n",
    "ax[0].bar(combined3['Entity'], combined3['CO2 Emissions per Twh'])\n",
    "ax[0].set_title('CO2 Emissions per Twh')\n",
    "ax[1].bar(combined3['Entity'], combined3['Electricity Generated (TWh)'], color='yellow')\n",
    "ax[1].set_title('Electricity Generated (TWh)')\n",
    "ax[2].bar(combined3['Entity'], combined3['Deaths per TWh'], color='red')\n",
    "ax[2].set_title('Deaths per TWh')\n",
    "plt.show()\n",
    "\n",
    "\n"
   ]
  },
  {
   "attachments": {},
   "cell_type": "markdown",
   "metadata": {},
   "source": [
    "The general idea is for the SAFETY factor, we tested 2 variables, CO2 emissions and Deaths per Twh. CO2 emissions refer to the effect of chosen power generation method to global warming, meanwhile deaths per Twh refer to how dangerous it is to operate the power generation method.\n",
    "\n",
    "Then the final variable, which is electricity generated, is simply the basic efficiency of the power generation method. A power generation method that doesn't output good amount of electricity will always be bad no matter how safe it is, because its the main purpose of the power generation method; to generate electricity.\n",
    "\n",
    "First we check the KMO value, and we get 0.61. it means the sampling adequacy of our data is good enough.\n",
    "Then we perform exploratory factor analysis with just 1 n_factor, which is the safety factor.\n",
    "result shows (0.95, 0.74, 0.93)\n",
    "it means the CO2 emissions variable has 95% association with the safety factor\n",
    "the Electricity Generated variable has 74% association with the safety factor\n",
    "the Deaths per Twh variable has 93% association with the safety factor\n",
    "\n",
    "With that, lets use these numbers to rank the safest power generation method "
   ]
  },
  {
   "cell_type": "code",
   "execution_count": 33,
   "metadata": {},
   "outputs": [
    {
     "name": "stderr",
     "output_type": "stream",
     "text": [
      "C:\\Users\\Administrator\\AppData\\Local\\Temp\\ipykernel_13044\\1718222651.py:6: SettingWithCopyWarning: \n",
      "A value is trying to be set on a copy of a slice from a DataFrame\n",
      "\n",
      "See the caveats in the documentation: https://pandas.pydata.org/pandas-docs/stable/user_guide/indexing.html#returning-a-view-versus-a-copy\n",
      "  combined3['WeightedAverage'][i] = ((combined3['CO2 Emissions per Twh'][i] * 0.95) + (combined3['Electricity Generated (TWh)'][i] * 0.74) + (combined3['Deaths per TWh'][i] * -0.93)) / (combined3['CO2 Emissions per Twh'][i] + combined3['Electricity Generated (TWh)'][i] + combined3['Deaths per TWh'][i])\n"
     ]
    },
    {
     "data": {
      "image/png": "[encoded data removed]",
      "text/plain": [
       "<Figure size 1000x500 with 1 Axes>"
      ]
     },
     "metadata": {},
     "output_type": "display_data"
    }
   ],
   "source": [
    "# add a new column in combined3 named 'Total'\n",
    "combined3['WeightedAverage'] = [0, 0, 0, 0, 0, 0, 0, 0]\n",
    "\n",
    "# calculate the weighted average, death per twh is inverted because it is a negative factor\n",
    "for i in range(len(combined3)):\n",
    "    combined3['WeightedAverage'][i] = ((combined3['CO2 Emissions per Twh'][i] * 0.95) + (combined3['Electricity Generated (TWh)'][i] * 0.74) + (combined3['Deaths per TWh'][i] * -0.93)) / (combined3['CO2 Emissions per Twh'][i] + combined3['Electricity Generated (TWh)'][i] + combined3['Deaths per TWh'][i])\n",
    "\n",
    "# sort by weighted average\n",
    "combined3 = combined3.sort_values(by=['WeightedAverage'], ascending=False)\n",
    "\n",
    "# graph the weighted average, adjust the y scale to see the difference\n",
    "plt.figure(figsize=(10, 5))\n",
    "plt.title('Weighted Average')\n",
    "plt.bar(combined3['Entity'], combined3['WeightedAverage'])\n",
    "plt.ylim(0.7, 0.75)\n",
    "\n",
    "plt.show()\n"
   ]
  },
  {
   "attachments": {},
   "cell_type": "markdown",
   "metadata": {},
   "source": [
    "Here we see nuclear winning because it has decent electricity generation (despite having very few power plants) and almost nonexistent CO2 emission and death per Twh. Most renewables follows close. Coal is quite interesting, it expels a lot of CO2 and is very dangerous to operate, but it generates so much power because its so cheap and easy to use, not to mention reliable."
   ]
  },
  {
   "attachments": {},
   "cell_type": "markdown",
   "metadata": {},
   "source": [
    "# 7. Remarks and Suggestions\n",
    "\n",
    "Need to explore more datasets such as fuel cost per year, plant building investment, and operating costs to attain more important factors such as efficiency and reliability."
   ]
  },
  {
   "attachments": {},
   "cell_type": "markdown",
   "metadata": {},
   "source": [
    "# 8. Article\n",
    "# Nuclear Power is The Future\n",
    "\n",
    "## Introduction\n",
    "As our modern civilization continues to grow and evolve, the demand for energy is increasing at an unprecedented rate. However, our current methods of power generation, such as fossil fuels, hydroelectric, and renewable energy sources, are not capable of meeting the world's energy needs on their own. Moreover, these methods of power generation have their own set of limitations and drawbacks, such as air pollution, climate change, and the need for large land areas.\n",
    "\n",
    "To address this issue, nuclear power has emerged as a viable alternative to traditional energy sources. Despite its controversial reputation, nuclear power offers many benefits such as high energy output, low greenhouse gas emissions, and a relatively small environmental footprint. Furthermore, advances in nuclear technology have made it increasingly safe and efficient, with modern nuclear reactors designed with multiple layers of safety features to prevent accidents and mitigate the consequences if they occur.\n",
    "\n",
    "Therefore, as the demand for energy continues to increase, and the need for a sustainable and reliable power source becomes more critical, nuclear power has become an essential consideration for meeting our energy needs in a safe, efficient, and sustainable way.\n",
    "\n",
    "## Non-Renewables\n",
    "\n",
    "### The Ol' Reliable is Dying\n",
    "Non-renewable energy sources are energy resources that are finite and can be depleted over time. They include fossil fuels such as coal, oil, and natural gas, as well as nuclear energy sources like uranium. Yes, uranium, the fuel of nuclear power, we'll talk more about that later.\n",
    "\n",
    "Right now, non-renewables are viewed as the dirty and cheap energy. Pollution from non-renewable sources also contributes the most to global warming, smog, and human deaths. Despite the apparent disadvantages, globally, non-renewable energy sources such as fossil fuels, nuclear, and hydroelectric power continue to be the primary sources of energy.\n",
    "\n",
    "### Cheap electricity anytime, anywhere\n",
    "Non-renewable energy sources like fossil fuels and nuclear power have been the primary sources of energy for human civilization for many decades. While they are not sustainable, they still offer a range of benefits, including:\n",
    "\n",
    "- High Energy Density: Non-renewable energy sources have a high energy density, meaning they contain a significant amount of energy per unit of volume or mass, which makes them a reliable and efficient source of energy.\n",
    "\n",
    "- Cost-Effective: Fossil fuels, in particular, have been the cheapest source of energy for many years, making them an affordable option for powering homes, industries, and transportation.\n",
    "\n",
    "- Reliability: Non-renewable energy sources offer a reliable source of energy that can be used to meet the energy demands of a growing population, ensuring a stable supply of electricity and energy.\n",
    "\n",
    "- Established Infrastructure: The infrastructure for non-renewable energy sources is well-established and readily available, making it easier to supply energy to remote locations or areas with limited infrastructure.\n",
    "\n",
    "### The smog cooks you alive and chokes your breath\n",
    "\n",
    "Non-renewable energy sources have a range of significant disadvantages, including:\n",
    "\n",
    "- Environmental Impact: Non-renewable energy sources, particularly fossil fuels, have a significant impact on the environment, contributing to air pollution, water pollution, and climate change, which has far-reaching and long-term consequences for the planet and all living beings.\n",
    "\n",
    "- Finite Resources: Non-renewable energy sources are finite and can be depleted over time, which means that they cannot meet the growing energy demands of a growing population indefinitely.\n",
    "\n",
    "- Price Volatility: The price of non-renewable energy sources can be volatile and subject to price fluctuations, which can make it challenging to plan and budget for energy costs.\n",
    "\n",
    "- Health and Safety Risks: Non-renewable energy sources, such as coal mining and oil drilling, pose significant health and safety risks to workers and communities, including accidents, explosions, and exposure to toxic substances. Energy generated from non-renewable sources has the highest death per terawatt ratio.\n",
    "\n",
    "- Geopolitical Tensions: Non-renewable energy sources can contribute to geopolitical tensions and conflicts, particularly in regions where they are abundant or located near strategic locations."
   ]
  },
  {
   "attachments": {},
   "cell_type": "markdown",
   "metadata": {},
   "source": [
    "## Renewables\n",
    "\n",
    "### The Sun, The Wind, and The Ocean\n",
    "Renewable energy refers to sustainable energy sources that can be naturally replenished, such as solar, wind, hydro, geothermal, and bioenergy. Unlike non-renewable resources, these energy options offer a continuous and environmentally friendly power supply. By harnessing these renewable sources, we can reduce our reliance on fossil fuels, decrease greenhouse gas emissions, and pave the way for a cleaner and more sustainable energy future.\n",
    "\n",
    "Currently, renewable energy tech is quite developed, but still need to mature more. Countries all over the world are adopting renewables slowly and are benefitting from it. However because of the lack of maturity, no countries can rely full on renewables alone. The maturity problem mostly lies in efficiency issue, unsustainable battery economy, and high capital costs.\n",
    "\n",
    "### Energy from Infinity\n",
    "Renewable energy is free energy. It's the everlasting future our civilization need. Here are some advantages of renewable energy:\n",
    "\n",
    "- Infinite : The Sun will die in about 4.6 billion years from now, which is such a long time, humanity might even fade away before the sun dies out. The wind is an ever shifting force, never rests, never stops. The ocean is made of water that can store and cause a huge amount of kinetic energy. All of these things are virtually infinite.\n",
    "\n",
    "- Clean : Renewable energy produces a tiny amount of CO2 because most of the energy generation process converts heat into kinetic or vice versa. No chemical reactions, no smog, no greenhouse gases.\n",
    "\n",
    "- Safe : Unlike coal plant that has to be constantly babysitted, most of renewable energy sources are quite convenient and independent. They still require maintenance, but not as often as non-renewable machines. Most of the time, we simply need to clean it.\n",
    "\n",
    "### Cloudy with a chance of blackout\n",
    "Turns out the infinite still has some costs. Here are some of the drawbacks of renewable energy:\n",
    "\n",
    "- Unreliable : Quite paradoxical to its infinite nature, even though the sun shines forever, there is still something else that affects our ability to harness the sun's power; the clouds. The winds are ever-shifting, but it doesnt always move to where the windmills are waiting. The ocean can dry up if it kept being gazed by the sun. One way to combat this unreliablity is to connect a battery. But battery is made of something limited, so it's not a complete solution.\n",
    "\n",
    "- Expensive : Windmill's blades are hand crafted from layers upon layers of fibreglass soaked in epoxy. Then we need to move the humongous blades to the windfarm through narrow and busy city. Not to mention we need to free the land from private owners to make a functional wind farm. Renewables aren't cheap. Even though the investment will always be worth it, its not easy to gather a stupendous amount of cash to finance the building proccess.\n",
    "\n",
    "- Limited efficiency : the absolute best humanity can muster for solar panel efficiency is 25%. Meanwhile for the common folk, that figure comes down to 13-17%. A pitiable amount compared to 60% efficiency achived by non-renewable gas power plants. However, advancements in power generator designs and material science will hopefully increase its efficiency up to 50%. Hopefully."
   ]
  },
  {
   "attachments": {},
   "cell_type": "markdown",
   "metadata": {},
   "source": [
    "## Nuclear Power\n",
    "\n",
    "### The Infamous Golden Kid, Nuclear Power\n",
    "Nuclear power is the energy generated by a nuclear reactor. The atom consists of proton, neutron, and electron. According to modern quantum mechanics research, the bond that keeps protons, neutron and electrons is extremely strong. By splitting the atom, we can release a huge amount of energy. This is the basic principle of nuclear power. The energy released by splitting the atom is used to heat water, which then turns into steam. The steam is used to turn a turbine, which then generates electricity.\n",
    "\n",
    "Despite all the good signs, clean statistics, and the fact that nuclear power is the most efficient energy source, nuclear power is still a taboo. The reason is because of the infamous Chernobyl and Fukushima nuclear disasters. The Chernobyl disaster was caused by a combination of human error and design flaws in the reactor, while the Fukushima disaster was caused by a combination of a tsunami and a design flaw in the reactor. Both of these disasters were caused by human error and design flaws, not by the nuclear power itself. The adoption of nuclear power is still slow, and unfortunately its getting slower each year. New nuclear power plants with modern tech (thats dozens times safer and more efficient than the old reactors) exists, but sadly no one wants to build them.\n",
    "\n",
    "### No Bond is Stronger than Atom's Bond\n",
    "The power granted by an atom is no small feat, here are the benefits of nuclear power plants:\n",
    "- Efficient : Nuclear power plants' efficiency makes the 60% efficiency of gas power plants look like a joke. Nuclear power plants can reach up to 90% efficiency, which is a huge leap from the 25% efficiency of solar panels. This means that nuclear power plants can generate more electricity with less fuel. Its simply the most efficient energy source we currently can take advantage of.\n",
    "\n",
    "- Safe : The Infamous Chernobyl Incident killed 30 people and injured 155 people. The Fukushima Incident killed 1 engineer and injured 60 people. Those major incidents happened almost four decades ago, and a decade ago respectively. Meanwhile, the coal industry kills 7,500 people every year. The oil industry kills 36,000 people every year. The gas industry kills 4,000 people every year. Nuclear power is the safest energy source we currently have, as the statistics above shows.\n",
    "\n",
    "- Clean : Nuclear power plants produce no greenhouse gases, no smog, no pollution, no nothing. The only thing nuclear power plants produce is electricity and a tiny amount of nuclear waste. Nuclear waste is a byproduct of the nuclear fission process. Nuclear waste is radioactive, but it can be stored safely in a nuclear waste storage facility. Nuclear waste is also a lot less than the waste produced by coal, oil, and gas power plants. \n",
    "\n",
    "### Scary Apocalytic Meltdown\n",
    "Thanks to Hollywood movies, Anime and Novels, post-apocalyptic world usually has some sort of connection with malfunctioning nuclear power plants. The reality is much more beautiful than that. Sure, Nuclear power plants are not perfect, but we can always make it better. Here are some of the drawbacks of nuclear power plants:\n",
    "\n",
    "- Immortal Waste : Nuclear waste is radioactive, and it can stay radioactive for a very long time. The half-life of nuclear waste can be up to 24,000 years. This means that nuclear waste can stay radioactive for a very long time. However, nuclear waste can be stored safely in a nuclear waste storage facility. Nuclear waste is also a lot less than the waste produced by coal, oil, and gas power plants. However, there's a type of nuclear reactor (breeder reactor) thats able to reduce the amount of nuclear waste produced by a nuclear power plant by 95%. The nuclear waste produced by a nuclear power plant is so small, it can be stored in a single room.\n",
    "\n",
    "- Expensive : Nuclear power plants are expensive to build. The cost of building a nuclear power plant is around USD5,000 per kilowatt. The cost of building a coal power plant is around USD3,000 per kilowatt. The cost of building a gas power plant is around USD1,000 per kilowatt. The cost of building a solar power plant is around USD1,500 per kilowatt. The cost of building a wind power plant is around USD1,500 per kilowatt. The cost of building a hydro power plant is around USD2,000 per kilowatt. The cost of building a geothermal power plant is around USD3,000 per kilowatt. The cost of building\n",
    "\n"
   ]
  },
  {
   "attachments": {},
   "cell_type": "markdown",
   "metadata": {},
   "source": [
    "## Conclusion\n",
    "\n",
    "Our current civilization demands more sustainable energy delivered in a safe way. Today's energy production is dominated by non-renewables. Thankfully, countries and companies are starting to wake up and push renewable energy forward. However, the adoption of renewable energy is still slow due to renewable energy's unreliability, low efficiency, and expensive cost. There will be the time where renewable energy sources fully matures and everyone, including the common folk wouldn't have to worry about electricity anymore. However, that is still far to the future. The best approach for today is to switch to Nuclear power. Countless statistics shows that nuclear power is the safest energy source we currently have. Nuclear power plants are also clean, efficient, and reliable. Nuclear power plants are expensive to build, but the cost of building a nuclear power plant is worth it. Nuclear power plants are the best energy source we currently have, and we should start building more of them. "
   ]
  }
 ],
 "metadata": {
  "kernelspec": {
   "display_name": "Python 3",
   "language": "python",
   "name": "python3"
  },
  "language_info": {
   "codemirror_mode": {
    "name": "ipython",
    "version": 3
   },
   "file_extension": ".py",
   "mimetype": "text/x-python",
   "name": "python",
   "nbconvert_exporter": "python",
   "pygments_lexer": "ipython3",
   "version": "3.10.4"
  },
  "orig_nbformat": 4
 },
 "nbformat": 4,
 "nbformat_minor": 2
}
